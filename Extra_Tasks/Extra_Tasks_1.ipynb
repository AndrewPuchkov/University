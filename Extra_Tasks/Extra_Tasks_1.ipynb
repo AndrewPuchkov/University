{
  "nbformat": 4,
  "nbformat_minor": 0,
  "metadata": {
    "colab": {
      "provenance": [],
      "authorship_tag": "ABX9TyOwiotRdBQyYOhhH7caxte/",
      "include_colab_link": true
    },
    "kernelspec": {
      "name": "python3",
      "display_name": "Python 3"
    },
    "language_info": {
      "name": "python"
    }
  },
  "cells": [
    {
      "cell_type": "markdown",
      "metadata": {
        "id": "view-in-github",
        "colab_type": "text"
      },
      "source": [
        "<a href=\"https://colab.research.google.com/github/AndrewPuchkov/University/blob/main/%D0%94%D0%BE%D0%BF%D0%BE%D0%BB%D0%BD%D0%B8%D1%82%D0%B5%D0%BB%D1%8C%D0%BD%D1%8B%D0%B5%20%D0%B7%D0%B0%D0%B4%D0%B0%D0%BD%D0%B8%D1%8F/%D0%98%D0%B3%D1%80%D0%B0%20%22%D0%A3%D0%B3%D0%B0%D0%B4%D0%B0%D0%B9%20%D1%87%D0%B8%D1%81%D0%BB%D0%BE%22%2015.09.23.ipynb\" target=\"_parent\"><img src=\"https://colab.research.google.com/assets/colab-badge.svg\" alt=\"Open In Colab\"/></a>"
      ]
    },
    {
      "cell_type": "code",
      "execution_count": 1,
      "metadata": {
        "colab": {
          "base_uri": "https://localhost:8080/"
        },
        "id": "KWv-Jx4FHt2e",
        "outputId": "6b06c59f-d414-4b95-f5b1-9c3707b4f92e"
      },
      "outputs": [
        {
          "output_type": "stream",
          "name": "stdout",
          "text": [
            "Компьютер загадал число, угадай): \n",
            "19\n",
            "Ваше число меньше загаданного, число попыток: 1\n",
            "27\n",
            "Ваше число меньше загаданного, число попыток: 2\n",
            "40\n",
            "Ваше число меньше загаданного, число попыток: 3\n",
            "60\n",
            "Ваше число больше загаданного, число попыток: 4\n",
            "50\n",
            "Ваше число больше загаданного, число попыток: 5\n",
            "45\n",
            "Вы угадали число: 45 Ваше общее число попыток: 6\n"
          ]
        }
      ],
      "source": [
        "import random\n",
        "\n",
        "count = 0\n",
        "a = random.randint(0, 101)\n",
        "flag = False\n",
        "print('Компьютер загадал число, угадай): ')\n",
        "while flag != True:\n",
        "    ans = input()\n",
        "    if ans.isdigit():\n",
        "        if int(ans) < a:\n",
        "            count += 1\n",
        "            print('Ваше число меньше загаданного, число попыток:', count)\n",
        "        elif int(ans) > a:\n",
        "            count += 1\n",
        "            print('Ваше число больше загаданного, число попыток:', count)\n",
        "        elif int(ans) == a:\n",
        "            count += 1\n",
        "            print('Вы угадали число:', a, 'Ваше общее число попыток:', count)\n",
        "            flag = True\n",
        "    elif ans == 'Выход':\n",
        "        print('Вы закончили игру, ваше кол-во попыток:', count)\n",
        "        break"
      ]
    }
  ]
}